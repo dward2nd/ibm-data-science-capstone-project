{
  "nbformat": 4,
  "nbformat_minor": 0,
  "metadata": {
    "colab": {
      "name": "1-Introduction.ipynb",
      "provenance": [],
      "collapsed_sections": [],
      "authorship_tag": "ABX9TyM86fRzD5/cMMtBg1msANJU"
    },
    "kernelspec": {
      "name": "python3",
      "display_name": "Python 3"
    }
  },
  "cells": [
    {
      "cell_type": "markdown",
      "metadata": {
        "id": "eu-6clXG80Sl",
        "colab_type": "text"
      },
      "source": [
        "# Let's get started\n",
        "\n",
        "This is my first notebook in the course \"IBM Data Scienc Capstone\", publishing in repository that further projects will be published soon."
      ]
    },
    {
      "cell_type": "markdown",
      "metadata": {
        "id": "4GJabeie9Y5a",
        "colab_type": "text"
      },
      "source": [
        "Let's try something as a warm-up. First, import some libraries."
      ]
    },
    {
      "cell_type": "code",
      "metadata": {
        "id": "1rtFZubc76Ty",
        "colab_type": "code",
        "colab": {}
      },
      "source": [
        "import pandas as pd   # import 'pandas'\n",
        "import numpy as np    # import 'numpy'"
      ],
      "execution_count": 1,
      "outputs": []
    },
    {
      "cell_type": "markdown",
      "metadata": {
        "id": "36AKQe6h95lZ",
        "colab_type": "text"
      },
      "source": [
        "Print out something."
      ]
    },
    {
      "cell_type": "code",
      "metadata": {
        "id": "z6pWPJ_0928a",
        "colab_type": "code",
        "colab": {
          "base_uri": "https://localhost:8080/",
          "height": 35
        },
        "outputId": "b585cf25-5d72-4700-cdd1-4968b2ae6d5a"
      },
      "source": [
        "print('Hello Capstone Project Course!')"
      ],
      "execution_count": 2,
      "outputs": [
        {
          "output_type": "stream",
          "text": [
            "Hello Capstone Project Course!\n"
          ],
          "name": "stdout"
        }
      ]
    },
    {
      "cell_type": "markdown",
      "metadata": {
        "id": "BMcKuLk3-BfC",
        "colab_type": "text"
      },
      "source": [
        "Now that's enough. Goodbye."
      ]
    }
  ]
}