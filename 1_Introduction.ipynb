{
 "cells": [
  {
   "cell_type": "markdown",
   "metadata": {
    "colab_type": "text",
    "id": "eu-6clXG80Sl"
   },
   "source": [
    "# Let's get started\n",
    "\n",
    "This is my first notebook in the course \"IBM Data Scienc Capstone\", publishing in repository that further projects will be published soon."
   ]
  },
  {
   "cell_type": "markdown",
   "metadata": {
    "colab_type": "text",
    "id": "4GJabeie9Y5a"
   },
   "source": [
    "Let's try something as a warm-up. First, import some libraries."
   ]
  },
  {
   "cell_type": "code",
   "execution_count": 1,
   "metadata": {
    "colab": {},
    "colab_type": "code",
    "id": "1rtFZubc76Ty"
   },
   "outputs": [],
   "source": [
    "import pandas as pd   # import 'pandas'\n",
    "import numpy as np    # import 'numpy'"
   ]
  },
  {
   "cell_type": "markdown",
   "metadata": {
    "colab_type": "text",
    "id": "36AKQe6h95lZ"
   },
   "source": [
    "Print out something."
   ]
  },
  {
   "cell_type": "code",
   "execution_count": 2,
   "metadata": {
    "colab": {
     "base_uri": "https://localhost:8080/",
     "height": 35
    },
    "colab_type": "code",
    "id": "z6pWPJ_0928a",
    "outputId": "b585cf25-5d72-4700-cdd1-4968b2ae6d5a"
   },
   "outputs": [
    {
     "name": "stdout",
     "output_type": "stream",
     "text": [
      "Hello Capstone Project Course!\n"
     ]
    }
   ],
   "source": [
    "print('Hello Capstone Project Course!')"
   ]
  },
  {
   "cell_type": "markdown",
   "metadata": {
    "colab_type": "text",
    "id": "BMcKuLk3-BfC"
   },
   "source": [
    "Now that's enough. Goodbye."
   ]
  }
 ],
 "metadata": {
  "colab": {
   "authorship_tag": "ABX9TyM86fRzD5/cMMtBg1msANJU",
   "collapsed_sections": [],
   "name": "1-Introduction.ipynb",
   "provenance": []
  },
  "kernelspec": {
   "display_name": "Python 3",
   "language": "python",
   "name": "python3"
  },
  "language_info": {
   "codemirror_mode": {
    "name": "ipython",
    "version": 3
   },
   "file_extension": ".py",
   "mimetype": "text/x-python",
   "name": "python",
   "nbconvert_exporter": "python",
   "pygments_lexer": "ipython3",
   "version": "3.7.7"
  }
 },
 "nbformat": 4,
 "nbformat_minor": 4
}
